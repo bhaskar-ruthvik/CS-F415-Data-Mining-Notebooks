{
 "cells": [
  {
   "cell_type": "markdown",
   "metadata": {},
   "source": [
    "# CS F415 - Data Mining \n",
    "\n",
    "## Section 1 - Data Preprocessing \n",
    "\n",
    "This notebook will contain basic information about the various data preprocessing techniques as mentioned in the lectures followed by code snippets in python that will help you realise these methods on a sample dataset. The Notebook will first contain brief information about the types of data and then cover the various preprocessing techniques. The preprocessing techniques that will be covered in this notebook are:\n",
    "* Aggregation\n",
    "* Sampling\n",
    "* Dimensionality Reduction \n",
    "* Feature Subset Selection\n",
    "* Feature Creation Discretization and Binarization\n",
    "* Attribute Transformation"
   ]
  },
  {
   "cell_type": "markdown",
   "metadata": {},
   "source": [
    "### Step 1: Python and Jupyter Environment Setup"
   ]
  },
  {
   "cell_type": "markdown",
   "metadata": {},
   "source": [
    "This section is for people who have never worked with Jupyter or used Python for Data Science Related Applications. In case you already have the environment setup, feel free to skip to this [section](#cell2)\n",
    "\n",
    "Check out: [What are Jupyter Notebooks/IPython Notebooks?](https://www.youtube.com/watch?v=jZ952vChhuI)\n",
    "\n",
    "In order to run these notebooks on your device or to create notebooks such as these for hands on experience, there are several approaches:\n",
    "\n",
    "#### Approach 1. Google Colab \n",
    "\n",
    "Advantages: \n",
    "* Google Colab allows you to remotely access a computer on the cloud which already has the environment setup and the most popular Machine Learning (ML), Deep Learning (DL) and Natural Language Processing (NLP) Libraries installed which allows a user with any hardware to perform computationally-intensive ML and DL tasks even with weak hardware\n",
    "* This means you can directly start getting some hands on experience with these notebooks.\n",
    "* For Beginners with little experience in setting up environments, Google Colab is the best way to start. \n",
    "* You have access to more powerful Server-Class Graphics Processing Units (GPUs) as compared to the ones available to general consumers which as Desktop-Class GPUs which are sometimes required for more powerful Machine Learning and Deep Learning Tasks\n",
    "\n",
    "Disadvantages: \n",
    "* The Cloud environment means that the resources that google can provide for free are limited and thus, upon some idle time away from the notebook your session would be reset including the storage and any files you may have saved in that session. \n",
    "* The GPUs that are available are often available for limited periods of time and are easy to exhaust. If exhausted, one may need to purchase additional GPU credits.\n",
    "\n",
    "You can access Google Colab using the URL: https://colab.research.google.com/\n",
    "\n",
    "---\n",
    "\n",
    "#### Approach 2. The next method is to use Anaconda Navigator and a Local Jupyter Server. \n",
    "\n",
    "This method requires a bit of initial setup and this varies based on the Operating System of the user and this method is hardware dependent.\n",
    "\n",
    "Advantages:\n",
    "* The server is always running as long as you decide to kill it which means that all the local variables and the files you require for input and any output files generated will always be safely stored on your local storage.\n",
    "* Running locally means that your data remains private and lets you access the notebook when offline\n",
    "\n",
    "Disadvantages:\n",
    "* The initial setup with anaconda could be error prone and tricky if the user already has python installed on their system. \n",
    "* Forgetting to kill the server before quitting the jupyter environment may result in some issues. \n",
    "* The hardware a user can use is limited to the hardware that a user can access\n",
    "\n",
    "[Setup Tutorial for Windows](https://www.xda-developers.com/how-install-jupyter-notebook-windows/)\n",
    "\n",
    "[Setup Tutorial for MacOS](https://www.youtube.com/watch?v=A_xY5eL_IKU)\n",
    "\n",
    "[Setup Tutorial for Linux(Debian Based Distros - Ubuntu)](https://www.youtube.com/watch?v=wotkLCoJ_ks)\n",
    "\n",
    "---\n",
    "\n",
    "#### Approach 3. Installing Python and Setting up Jupyter Environment on Visual Studio Code\n",
    "\n",
    "Advantages:\n",
    "* Similar to Jupyter Server, it runs locally so it contains the same advantages\n",
    "* Since it runs on a fully fledged IDE like Visual Studio Code, One can customize the interface to fit their convenience and install additional extensions which could help the experience. \n",
    "* Server is always killed when you close Visual Studio Code\n",
    "* Similar Setup for all operating systems once you get Python Setup and install Visual Studio Code\n",
    "\n",
    "Disadvantages:\n",
    "* Restriced to user hardware\n",
    "* Initial Setup can be a bit tedious\n",
    "\n",
    "Setup Tutorial for Python: \n",
    "* Windows: https://docs.python.org/3/using/windows.html\n",
    "* MacOS: https://docs.python.org/3/using/mac.html\n",
    "* Linux (Ubuntu): https://phoenixnap.com/kb/how-to-install-python-3-ubuntu\n",
    "\n",
    "Setup Tutorial for Visual Studio Code: https://code.visualstudio.com/learn/get-started/basics\n",
    "\n",
    "Setup Tutorial for Jupyter on Visual Studio Code: https://code.visualstudio.com/docs/datascience/jupyter-notebooks\n",
    "\n",
    "---\n",
    "\n",
    "Once the environment is setup, you may be required to install some python libraries that are needed to run this notebook. At any point in the notebook, if you receive an error such as: \n",
    "\n",
    " `import 'numpy' is not resolved`\n",
    "\n",
    "Use the pip library to install the library. In case you are running on colab, most of the libraries would already be installed but in case there is a library that isnt on the colab environment use:\n",
    "\n",
    "`!pip install numpy`\n",
    "\n",
    "After installing the Libraries the rest of the cells in this notebook can be run without any issues. \n",
    "\n",
    "--- \n",
    "\n",
    "For the rest of this notebook we will be using popular data science libraries, the links for the documentation would be provided through which any doubt regarding the syntax can be clarified but in case of more doubts please look it up on the internet until you understand what the cell is achieving.\n",
    "\n",
    "Also check out: \n",
    "* [Intro to Numpy](https://www.youtube.com/watch?v=xECXZ3tyONo)\n",
    "\n",
    "* [Intro to Pandas and Matplotlib](https://www.youtube.com/watch?v=a9UrKTVEeZA)\n",
    "\n",
    "---\n",
    "\n"
   ]
  },
  {
   "cell_type": "markdown",
   "metadata": {},
   "source": [
    "<a id='cell2'></a>\n",
    "\n",
    "### Step 2: Importing a Dataset, Some Useful Functions and Dealing with Missing Data"
   ]
  },
  {
   "cell_type": "markdown",
   "metadata": {},
   "source": [
    "#### Importing the Libraries and a CSV File Dataset into a Pandas DataFrame"
   ]
  },
  {
   "cell_type": "code",
   "execution_count": 71,
   "metadata": {},
   "outputs": [],
   "source": [
    "import numpy as np \n",
    "import pandas as pd\n",
    "import matplotlib.pyplot as plt"
   ]
  },
  {
   "cell_type": "markdown",
   "metadata": {},
   "source": [
    "* Throughout the rest of this notebook we will be adding certain libraries as we require them. \n",
    "* The datasets used for different parts of the notebook may also vary so ensure that you have all the datasets downloaded."
   ]
  },
  {
   "cell_type": "markdown",
   "metadata": {},
   "source": [
    "For the example here, we are using a dataset that contains Indian Rainfall Data through which we will cover some basic explorations you can"
   ]
  },
  {
   "cell_type": "markdown",
   "metadata": {},
   "source": [
    "`pd.read_csv()`\n",
    "\n",
    "This Function allows us to import the comma seperated value file as a Pandas DataFrame."
   ]
  },
  {
   "cell_type": "code",
   "execution_count": 72,
   "metadata": {},
   "outputs": [],
   "source": [
    "df = pd.read_csv('./Datasets/Data_Preprocessing/rainfall.csv')"
   ]
  },
  {
   "cell_type": "markdown",
   "metadata": {},
   "source": [
    "#### Some Useful Functions that can be used on DataFrames"
   ]
  },
  {
   "cell_type": "markdown",
   "metadata": {},
   "source": [
    "`DataFrame.head()`\n",
    "\n",
    "This Function shows the first 5 entries of the DataFrame."
   ]
  },
  {
   "cell_type": "code",
   "execution_count": 73,
   "metadata": {},
   "outputs": [
    {
     "data": {
      "text/html": [
       "<div>\n",
       "<style scoped>\n",
       "    .dataframe tbody tr th:only-of-type {\n",
       "        vertical-align: middle;\n",
       "    }\n",
       "\n",
       "    .dataframe tbody tr th {\n",
       "        vertical-align: top;\n",
       "    }\n",
       "\n",
       "    .dataframe thead th {\n",
       "        text-align: right;\n",
       "    }\n",
       "</style>\n",
       "<table border=\"1\" class=\"dataframe\">\n",
       "  <thead>\n",
       "    <tr style=\"text-align: right;\">\n",
       "      <th></th>\n",
       "      <th>index</th>\n",
       "      <th>SUBDIVISION</th>\n",
       "      <th>YEAR</th>\n",
       "      <th>JAN</th>\n",
       "      <th>FEB</th>\n",
       "      <th>MAR</th>\n",
       "      <th>APR</th>\n",
       "      <th>MAY</th>\n",
       "      <th>JUN</th>\n",
       "      <th>JUL</th>\n",
       "      <th>AUG</th>\n",
       "      <th>SEP</th>\n",
       "      <th>OCT</th>\n",
       "      <th>NOV</th>\n",
       "      <th>DEC</th>\n",
       "      <th>ANNUAL</th>\n",
       "      <th>Jan-Feb</th>\n",
       "      <th>Mar-May</th>\n",
       "      <th>Jun-Sep</th>\n",
       "      <th>Oct-Dec</th>\n",
       "    </tr>\n",
       "  </thead>\n",
       "  <tbody>\n",
       "    <tr>\n",
       "      <th>0</th>\n",
       "      <td>0</td>\n",
       "      <td>ANDAMAN &amp; NICOBAR ISLANDS</td>\n",
       "      <td>1901</td>\n",
       "      <td>49.2</td>\n",
       "      <td>87.1</td>\n",
       "      <td>29.2</td>\n",
       "      <td>2.3</td>\n",
       "      <td>528.8</td>\n",
       "      <td>517.5</td>\n",
       "      <td>365.1</td>\n",
       "      <td>481.1</td>\n",
       "      <td>332.6</td>\n",
       "      <td>388.5</td>\n",
       "      <td>558.2</td>\n",
       "      <td>33.6</td>\n",
       "      <td>3373.2</td>\n",
       "      <td>136.3</td>\n",
       "      <td>560.3</td>\n",
       "      <td>1696.3</td>\n",
       "      <td>980.3</td>\n",
       "    </tr>\n",
       "    <tr>\n",
       "      <th>1</th>\n",
       "      <td>1</td>\n",
       "      <td>ANDAMAN &amp; NICOBAR ISLANDS</td>\n",
       "      <td>1902</td>\n",
       "      <td>0.0</td>\n",
       "      <td>159.8</td>\n",
       "      <td>12.2</td>\n",
       "      <td>0.0</td>\n",
       "      <td>446.1</td>\n",
       "      <td>537.1</td>\n",
       "      <td>228.9</td>\n",
       "      <td>753.7</td>\n",
       "      <td>666.2</td>\n",
       "      <td>197.2</td>\n",
       "      <td>359.0</td>\n",
       "      <td>160.5</td>\n",
       "      <td>3520.7</td>\n",
       "      <td>159.8</td>\n",
       "      <td>458.3</td>\n",
       "      <td>2185.9</td>\n",
       "      <td>716.7</td>\n",
       "    </tr>\n",
       "    <tr>\n",
       "      <th>2</th>\n",
       "      <td>2</td>\n",
       "      <td>ANDAMAN &amp; NICOBAR ISLANDS</td>\n",
       "      <td>1903</td>\n",
       "      <td>12.7</td>\n",
       "      <td>144.0</td>\n",
       "      <td>0.0</td>\n",
       "      <td>1.0</td>\n",
       "      <td>235.1</td>\n",
       "      <td>479.9</td>\n",
       "      <td>728.4</td>\n",
       "      <td>326.7</td>\n",
       "      <td>339.0</td>\n",
       "      <td>181.2</td>\n",
       "      <td>284.4</td>\n",
       "      <td>225.0</td>\n",
       "      <td>2957.4</td>\n",
       "      <td>156.7</td>\n",
       "      <td>236.1</td>\n",
       "      <td>1874.0</td>\n",
       "      <td>690.6</td>\n",
       "    </tr>\n",
       "    <tr>\n",
       "      <th>3</th>\n",
       "      <td>3</td>\n",
       "      <td>ANDAMAN &amp; NICOBAR ISLANDS</td>\n",
       "      <td>1904</td>\n",
       "      <td>9.4</td>\n",
       "      <td>14.7</td>\n",
       "      <td>0.0</td>\n",
       "      <td>202.4</td>\n",
       "      <td>304.5</td>\n",
       "      <td>495.1</td>\n",
       "      <td>502.0</td>\n",
       "      <td>160.1</td>\n",
       "      <td>820.4</td>\n",
       "      <td>222.2</td>\n",
       "      <td>308.7</td>\n",
       "      <td>40.1</td>\n",
       "      <td>3079.6</td>\n",
       "      <td>24.1</td>\n",
       "      <td>506.9</td>\n",
       "      <td>1977.6</td>\n",
       "      <td>571.0</td>\n",
       "    </tr>\n",
       "    <tr>\n",
       "      <th>4</th>\n",
       "      <td>4</td>\n",
       "      <td>ANDAMAN &amp; NICOBAR ISLANDS</td>\n",
       "      <td>1905</td>\n",
       "      <td>1.3</td>\n",
       "      <td>0.0</td>\n",
       "      <td>3.3</td>\n",
       "      <td>26.9</td>\n",
       "      <td>279.5</td>\n",
       "      <td>628.7</td>\n",
       "      <td>368.7</td>\n",
       "      <td>330.5</td>\n",
       "      <td>297.0</td>\n",
       "      <td>260.7</td>\n",
       "      <td>25.4</td>\n",
       "      <td>344.7</td>\n",
       "      <td>2566.7</td>\n",
       "      <td>1.3</td>\n",
       "      <td>309.7</td>\n",
       "      <td>1624.9</td>\n",
       "      <td>630.8</td>\n",
       "    </tr>\n",
       "  </tbody>\n",
       "</table>\n",
       "</div>"
      ],
      "text/plain": [
       "   index                SUBDIVISION  YEAR   JAN    FEB   MAR    APR    MAY  \\\n",
       "0      0  ANDAMAN & NICOBAR ISLANDS  1901  49.2   87.1  29.2    2.3  528.8   \n",
       "1      1  ANDAMAN & NICOBAR ISLANDS  1902   0.0  159.8  12.2    0.0  446.1   \n",
       "2      2  ANDAMAN & NICOBAR ISLANDS  1903  12.7  144.0   0.0    1.0  235.1   \n",
       "3      3  ANDAMAN & NICOBAR ISLANDS  1904   9.4   14.7   0.0  202.4  304.5   \n",
       "4      4  ANDAMAN & NICOBAR ISLANDS  1905   1.3    0.0   3.3   26.9  279.5   \n",
       "\n",
       "     JUN    JUL    AUG    SEP    OCT    NOV    DEC  ANNUAL  Jan-Feb  Mar-May  \\\n",
       "0  517.5  365.1  481.1  332.6  388.5  558.2   33.6  3373.2    136.3    560.3   \n",
       "1  537.1  228.9  753.7  666.2  197.2  359.0  160.5  3520.7    159.8    458.3   \n",
       "2  479.9  728.4  326.7  339.0  181.2  284.4  225.0  2957.4    156.7    236.1   \n",
       "3  495.1  502.0  160.1  820.4  222.2  308.7   40.1  3079.6     24.1    506.9   \n",
       "4  628.7  368.7  330.5  297.0  260.7   25.4  344.7  2566.7      1.3    309.7   \n",
       "\n",
       "   Jun-Sep  Oct-Dec  \n",
       "0   1696.3    980.3  \n",
       "1   2185.9    716.7  \n",
       "2   1874.0    690.6  \n",
       "3   1977.6    571.0  \n",
       "4   1624.9    630.8  "
      ]
     },
     "execution_count": 73,
     "metadata": {},
     "output_type": "execute_result"
    }
   ],
   "source": [
    "df.head()"
   ]
  },
  {
   "cell_type": "markdown",
   "metadata": {},
   "source": [
    "`DataFrame.info()`\n",
    "\n",
    "This Function lets us view some information about the DataFrame Columns and their Datatypes."
   ]
  },
  {
   "cell_type": "code",
   "execution_count": 74,
   "metadata": {},
   "outputs": [
    {
     "name": "stdout",
     "output_type": "stream",
     "text": [
      "<class 'pandas.core.frame.DataFrame'>\n",
      "RangeIndex: 4116 entries, 0 to 4115\n",
      "Data columns (total 20 columns):\n",
      " #   Column       Non-Null Count  Dtype  \n",
      "---  ------       --------------  -----  \n",
      " 0   index        4116 non-null   int64  \n",
      " 1   SUBDIVISION  4116 non-null   object \n",
      " 2   YEAR         4116 non-null   int64  \n",
      " 3   JAN          4112 non-null   float64\n",
      " 4   FEB          4113 non-null   float64\n",
      " 5   MAR          4110 non-null   float64\n",
      " 6   APR          4112 non-null   float64\n",
      " 7   MAY          4113 non-null   float64\n",
      " 8   JUN          4111 non-null   float64\n",
      " 9   JUL          4109 non-null   float64\n",
      " 10  AUG          4112 non-null   float64\n",
      " 11  SEP          4110 non-null   float64\n",
      " 12  OCT          4109 non-null   float64\n",
      " 13  NOV          4105 non-null   float64\n",
      " 14  DEC          4106 non-null   float64\n",
      " 15  ANNUAL       4090 non-null   float64\n",
      " 16  Jan-Feb      4110 non-null   float64\n",
      " 17  Mar-May      4107 non-null   float64\n",
      " 18  Jun-Sep      4106 non-null   float64\n",
      " 19  Oct-Dec      4103 non-null   float64\n",
      "dtypes: float64(17), int64(2), object(1)\n",
      "memory usage: 643.3+ KB\n"
     ]
    }
   ],
   "source": [
    "df.info()"
   ]
  },
  {
   "cell_type": "markdown",
   "metadata": {},
   "source": [
    "`DataFrame.describe()`\n",
    "\n",
    "This Function displays the statistics about the DataFrame's columns."
   ]
  },
  {
   "cell_type": "code",
   "execution_count": 75,
   "metadata": {},
   "outputs": [
    {
     "data": {
      "text/html": [
       "<div>\n",
       "<style scoped>\n",
       "    .dataframe tbody tr th:only-of-type {\n",
       "        vertical-align: middle;\n",
       "    }\n",
       "\n",
       "    .dataframe tbody tr th {\n",
       "        vertical-align: top;\n",
       "    }\n",
       "\n",
       "    .dataframe thead th {\n",
       "        text-align: right;\n",
       "    }\n",
       "</style>\n",
       "<table border=\"1\" class=\"dataframe\">\n",
       "  <thead>\n",
       "    <tr style=\"text-align: right;\">\n",
       "      <th></th>\n",
       "      <th>index</th>\n",
       "      <th>YEAR</th>\n",
       "      <th>JAN</th>\n",
       "      <th>FEB</th>\n",
       "      <th>MAR</th>\n",
       "      <th>APR</th>\n",
       "      <th>MAY</th>\n",
       "      <th>JUN</th>\n",
       "      <th>JUL</th>\n",
       "      <th>AUG</th>\n",
       "      <th>SEP</th>\n",
       "      <th>OCT</th>\n",
       "      <th>NOV</th>\n",
       "      <th>DEC</th>\n",
       "      <th>ANNUAL</th>\n",
       "      <th>Jan-Feb</th>\n",
       "      <th>Mar-May</th>\n",
       "      <th>Jun-Sep</th>\n",
       "      <th>Oct-Dec</th>\n",
       "    </tr>\n",
       "  </thead>\n",
       "  <tbody>\n",
       "    <tr>\n",
       "      <th>count</th>\n",
       "      <td>4116.000000</td>\n",
       "      <td>4116.000000</td>\n",
       "      <td>4112.000000</td>\n",
       "      <td>4113.000000</td>\n",
       "      <td>4110.000000</td>\n",
       "      <td>4112.000000</td>\n",
       "      <td>4113.000000</td>\n",
       "      <td>4111.000000</td>\n",
       "      <td>4109.000000</td>\n",
       "      <td>4112.000000</td>\n",
       "      <td>4110.000000</td>\n",
       "      <td>4109.000000</td>\n",
       "      <td>4105.000000</td>\n",
       "      <td>4106.000000</td>\n",
       "      <td>4090.000000</td>\n",
       "      <td>4110.000000</td>\n",
       "      <td>4107.000000</td>\n",
       "      <td>4106.000000</td>\n",
       "      <td>4103.000000</td>\n",
       "    </tr>\n",
       "    <tr>\n",
       "      <th>mean</th>\n",
       "      <td>2057.500000</td>\n",
       "      <td>1958.218659</td>\n",
       "      <td>18.957320</td>\n",
       "      <td>21.805325</td>\n",
       "      <td>27.359197</td>\n",
       "      <td>43.127432</td>\n",
       "      <td>85.745417</td>\n",
       "      <td>230.234444</td>\n",
       "      <td>347.214334</td>\n",
       "      <td>290.263497</td>\n",
       "      <td>197.361922</td>\n",
       "      <td>95.507009</td>\n",
       "      <td>39.866163</td>\n",
       "      <td>18.870580</td>\n",
       "      <td>1411.008900</td>\n",
       "      <td>40.747786</td>\n",
       "      <td>155.901753</td>\n",
       "      <td>1064.724769</td>\n",
       "      <td>154.100487</td>\n",
       "    </tr>\n",
       "    <tr>\n",
       "      <th>std</th>\n",
       "      <td>1188.331183</td>\n",
       "      <td>33.140898</td>\n",
       "      <td>33.585371</td>\n",
       "      <td>35.909488</td>\n",
       "      <td>46.959424</td>\n",
       "      <td>67.831168</td>\n",
       "      <td>123.234904</td>\n",
       "      <td>234.710758</td>\n",
       "      <td>269.539667</td>\n",
       "      <td>188.770477</td>\n",
       "      <td>135.408345</td>\n",
       "      <td>99.519134</td>\n",
       "      <td>68.685410</td>\n",
       "      <td>42.369611</td>\n",
       "      <td>903.846565</td>\n",
       "      <td>59.308277</td>\n",
       "      <td>201.316965</td>\n",
       "      <td>707.741531</td>\n",
       "      <td>166.942660</td>\n",
       "    </tr>\n",
       "    <tr>\n",
       "      <th>min</th>\n",
       "      <td>0.000000</td>\n",
       "      <td>1901.000000</td>\n",
       "      <td>0.000000</td>\n",
       "      <td>0.000000</td>\n",
       "      <td>0.000000</td>\n",
       "      <td>0.000000</td>\n",
       "      <td>0.000000</td>\n",
       "      <td>0.400000</td>\n",
       "      <td>0.000000</td>\n",
       "      <td>0.000000</td>\n",
       "      <td>0.100000</td>\n",
       "      <td>0.000000</td>\n",
       "      <td>0.000000</td>\n",
       "      <td>0.000000</td>\n",
       "      <td>62.300000</td>\n",
       "      <td>0.000000</td>\n",
       "      <td>0.000000</td>\n",
       "      <td>57.400000</td>\n",
       "      <td>0.000000</td>\n",
       "    </tr>\n",
       "    <tr>\n",
       "      <th>25%</th>\n",
       "      <td>1028.750000</td>\n",
       "      <td>1930.000000</td>\n",
       "      <td>0.600000</td>\n",
       "      <td>0.600000</td>\n",
       "      <td>1.000000</td>\n",
       "      <td>3.000000</td>\n",
       "      <td>8.600000</td>\n",
       "      <td>70.350000</td>\n",
       "      <td>175.600000</td>\n",
       "      <td>155.975000</td>\n",
       "      <td>100.525000</td>\n",
       "      <td>14.600000</td>\n",
       "      <td>0.700000</td>\n",
       "      <td>0.100000</td>\n",
       "      <td>804.500000</td>\n",
       "      <td>4.100000</td>\n",
       "      <td>24.050000</td>\n",
       "      <td>573.850000</td>\n",
       "      <td>34.200000</td>\n",
       "    </tr>\n",
       "    <tr>\n",
       "      <th>50%</th>\n",
       "      <td>2057.500000</td>\n",
       "      <td>1958.000000</td>\n",
       "      <td>6.000000</td>\n",
       "      <td>6.700000</td>\n",
       "      <td>7.800000</td>\n",
       "      <td>15.700000</td>\n",
       "      <td>36.600000</td>\n",
       "      <td>138.700000</td>\n",
       "      <td>284.800000</td>\n",
       "      <td>259.400000</td>\n",
       "      <td>173.900000</td>\n",
       "      <td>65.200000</td>\n",
       "      <td>9.500000</td>\n",
       "      <td>3.000000</td>\n",
       "      <td>1121.300000</td>\n",
       "      <td>19.200000</td>\n",
       "      <td>74.800000</td>\n",
       "      <td>881.100000</td>\n",
       "      <td>98.200000</td>\n",
       "    </tr>\n",
       "    <tr>\n",
       "      <th>75%</th>\n",
       "      <td>3086.250000</td>\n",
       "      <td>1987.000000</td>\n",
       "      <td>22.200000</td>\n",
       "      <td>26.800000</td>\n",
       "      <td>31.300000</td>\n",
       "      <td>49.950000</td>\n",
       "      <td>97.200000</td>\n",
       "      <td>305.150000</td>\n",
       "      <td>418.400000</td>\n",
       "      <td>377.800000</td>\n",
       "      <td>265.800000</td>\n",
       "      <td>148.400000</td>\n",
       "      <td>46.100000</td>\n",
       "      <td>17.500000</td>\n",
       "      <td>1644.775000</td>\n",
       "      <td>50.375000</td>\n",
       "      <td>196.950000</td>\n",
       "      <td>1288.175000</td>\n",
       "      <td>213.500000</td>\n",
       "    </tr>\n",
       "    <tr>\n",
       "      <th>max</th>\n",
       "      <td>4115.000000</td>\n",
       "      <td>2015.000000</td>\n",
       "      <td>583.700000</td>\n",
       "      <td>403.500000</td>\n",
       "      <td>605.600000</td>\n",
       "      <td>595.100000</td>\n",
       "      <td>1168.600000</td>\n",
       "      <td>1609.900000</td>\n",
       "      <td>2362.800000</td>\n",
       "      <td>1664.600000</td>\n",
       "      <td>1222.000000</td>\n",
       "      <td>948.300000</td>\n",
       "      <td>648.900000</td>\n",
       "      <td>617.500000</td>\n",
       "      <td>6331.100000</td>\n",
       "      <td>699.500000</td>\n",
       "      <td>1745.800000</td>\n",
       "      <td>4536.900000</td>\n",
       "      <td>1252.500000</td>\n",
       "    </tr>\n",
       "  </tbody>\n",
       "</table>\n",
       "</div>"
      ],
      "text/plain": [
       "             index         YEAR          JAN          FEB          MAR  \\\n",
       "count  4116.000000  4116.000000  4112.000000  4113.000000  4110.000000   \n",
       "mean   2057.500000  1958.218659    18.957320    21.805325    27.359197   \n",
       "std    1188.331183    33.140898    33.585371    35.909488    46.959424   \n",
       "min       0.000000  1901.000000     0.000000     0.000000     0.000000   \n",
       "25%    1028.750000  1930.000000     0.600000     0.600000     1.000000   \n",
       "50%    2057.500000  1958.000000     6.000000     6.700000     7.800000   \n",
       "75%    3086.250000  1987.000000    22.200000    26.800000    31.300000   \n",
       "max    4115.000000  2015.000000   583.700000   403.500000   605.600000   \n",
       "\n",
       "               APR          MAY          JUN          JUL          AUG  \\\n",
       "count  4112.000000  4113.000000  4111.000000  4109.000000  4112.000000   \n",
       "mean     43.127432    85.745417   230.234444   347.214334   290.263497   \n",
       "std      67.831168   123.234904   234.710758   269.539667   188.770477   \n",
       "min       0.000000     0.000000     0.400000     0.000000     0.000000   \n",
       "25%       3.000000     8.600000    70.350000   175.600000   155.975000   \n",
       "50%      15.700000    36.600000   138.700000   284.800000   259.400000   \n",
       "75%      49.950000    97.200000   305.150000   418.400000   377.800000   \n",
       "max     595.100000  1168.600000  1609.900000  2362.800000  1664.600000   \n",
       "\n",
       "               SEP          OCT          NOV          DEC       ANNUAL  \\\n",
       "count  4110.000000  4109.000000  4105.000000  4106.000000  4090.000000   \n",
       "mean    197.361922    95.507009    39.866163    18.870580  1411.008900   \n",
       "std     135.408345    99.519134    68.685410    42.369611   903.846565   \n",
       "min       0.100000     0.000000     0.000000     0.000000    62.300000   \n",
       "25%     100.525000    14.600000     0.700000     0.100000   804.500000   \n",
       "50%     173.900000    65.200000     9.500000     3.000000  1121.300000   \n",
       "75%     265.800000   148.400000    46.100000    17.500000  1644.775000   \n",
       "max    1222.000000   948.300000   648.900000   617.500000  6331.100000   \n",
       "\n",
       "           Jan-Feb      Mar-May      Jun-Sep      Oct-Dec  \n",
       "count  4110.000000  4107.000000  4106.000000  4103.000000  \n",
       "mean     40.747786   155.901753  1064.724769   154.100487  \n",
       "std      59.308277   201.316965   707.741531   166.942660  \n",
       "min       0.000000     0.000000    57.400000     0.000000  \n",
       "25%       4.100000    24.050000   573.850000    34.200000  \n",
       "50%      19.200000    74.800000   881.100000    98.200000  \n",
       "75%      50.375000   196.950000  1288.175000   213.500000  \n",
       "max     699.500000  1745.800000  4536.900000  1252.500000  "
      ]
     },
     "execution_count": 75,
     "metadata": {},
     "output_type": "execute_result"
    }
   ],
   "source": [
    "df.describe()"
   ]
  },
  {
   "cell_type": "markdown",
   "metadata": {},
   "source": [
    "#### Dealing with Missing Data"
   ]
  },
  {
   "cell_type": "markdown",
   "metadata": {},
   "source": [
    "##### Approach 1: Dropping the Rows that contain the missing data"
   ]
  },
  {
   "cell_type": "markdown",
   "metadata": {},
   "source": [
    "`DataFrame.isnull().sum()`\n",
    "\n",
    "This snippet shows how one can count the number of Null values in a dataset by Column name."
   ]
  },
  {
   "cell_type": "code",
   "execution_count": 76,
   "metadata": {},
   "outputs": [
    {
     "data": {
      "text/plain": [
       "index           0\n",
       "SUBDIVISION     0\n",
       "YEAR            0\n",
       "JAN             4\n",
       "FEB             3\n",
       "MAR             6\n",
       "APR             4\n",
       "MAY             3\n",
       "JUN             5\n",
       "JUL             7\n",
       "AUG             4\n",
       "SEP             6\n",
       "OCT             7\n",
       "NOV            11\n",
       "DEC            10\n",
       "ANNUAL         26\n",
       "Jan-Feb         6\n",
       "Mar-May         9\n",
       "Jun-Sep        10\n",
       "Oct-Dec        13\n",
       "dtype: int64"
      ]
     },
     "execution_count": 76,
     "metadata": {},
     "output_type": "execute_result"
    }
   ],
   "source": [
    "df.isnull().sum()"
   ]
  },
  {
   "cell_type": "markdown",
   "metadata": {},
   "source": [
    "`DataFrame.dropna()` and  `DataFrame.drop_duplicates()`\n",
    "\n",
    "The first function allows us to drop the null values and the second allows us to drop duplicates"
   ]
  },
  {
   "cell_type": "code",
   "execution_count": 77,
   "metadata": {},
   "outputs": [
    {
     "data": {
      "text/plain": [
       "index          0\n",
       "SUBDIVISION    0\n",
       "YEAR           0\n",
       "JAN            0\n",
       "FEB            0\n",
       "MAR            0\n",
       "APR            0\n",
       "MAY            0\n",
       "JUN            0\n",
       "JUL            0\n",
       "AUG            0\n",
       "SEP            0\n",
       "OCT            0\n",
       "NOV            0\n",
       "DEC            0\n",
       "ANNUAL         0\n",
       "Jan-Feb        0\n",
       "Mar-May        0\n",
       "Jun-Sep        0\n",
       "Oct-Dec        0\n",
       "dtype: int64"
      ]
     },
     "execution_count": 77,
     "metadata": {},
     "output_type": "execute_result"
    }
   ],
   "source": [
    "df = df.dropna()\n",
    "df = df.drop_duplicates()\n",
    "df.isnull().sum()"
   ]
  },
  {
   "cell_type": "markdown",
   "metadata": {},
   "source": [
    "##### Approach 2: Imputing the Data with Statistical Data such as Mean, Median or Mode"
   ]
  },
  {
   "cell_type": "code",
   "execution_count": 80,
   "metadata": {},
   "outputs": [],
   "source": [
    "df = pd.read_csv('./Datasets/Data_Preprocessing/rainfall.csv')"
   ]
  },
  {
   "cell_type": "code",
   "execution_count": 81,
   "metadata": {},
   "outputs": [
    {
     "data": {
      "text/plain": [
       "index           0\n",
       "SUBDIVISION     0\n",
       "YEAR            0\n",
       "JAN             4\n",
       "FEB             3\n",
       "MAR             6\n",
       "APR             4\n",
       "MAY             3\n",
       "JUN             5\n",
       "JUL             7\n",
       "AUG             4\n",
       "SEP             6\n",
       "OCT             7\n",
       "NOV            11\n",
       "DEC            10\n",
       "ANNUAL         26\n",
       "Jan-Feb         6\n",
       "Mar-May         9\n",
       "Jun-Sep        10\n",
       "Oct-Dec        13\n",
       "dtype: int64"
      ]
     },
     "execution_count": 81,
     "metadata": {},
     "output_type": "execute_result"
    }
   ],
   "source": [
    "df.isnull().sum()"
   ]
  },
  {
   "cell_type": "markdown",
   "metadata": {},
   "source": [
    "`DataFrame.fillna()`"
   ]
  },
  {
   "cell_type": "code",
   "execution_count": 82,
   "metadata": {},
   "outputs": [
    {
     "data": {
      "text/plain": [
       "index           0\n",
       "SUBDIVISION     0\n",
       "YEAR            0\n",
       "JAN             4\n",
       "FEB             3\n",
       "MAR             6\n",
       "APR             4\n",
       "MAY             3\n",
       "JUN             5\n",
       "JUL             7\n",
       "AUG             4\n",
       "SEP             6\n",
       "OCT             7\n",
       "NOV            11\n",
       "DEC            10\n",
       "ANNUAL          0\n",
       "Jan-Feb         6\n",
       "Mar-May         9\n",
       "Jun-Sep        10\n",
       "Oct-Dec        13\n",
       "dtype: int64"
      ]
     },
     "execution_count": 82,
     "metadata": {},
     "output_type": "execute_result"
    }
   ],
   "source": [
    "df['ANNUAL'] = df['ANNUAL'].fillna(df['ANNUAL'].median())\n",
    "\n",
    "# Similarly the null values can be filled with the mean\n",
    "\n",
    "# df = df['ANNUAL'].fillna(df['ANNUAL'].mean())\n",
    "df.isnull().sum()"
   ]
  },
  {
   "cell_type": "markdown",
   "metadata": {},
   "source": [
    "### Step 3: Data Preprocessing - Intro"
   ]
  },
  {
   "cell_type": "markdown",
   "metadata": {},
   "source": [
    "The next few sections will contain code snippets of how to implement the data preprocessing methods discussed in the class. The following sections may contain some lines where the objective of the lines are unclear, please refer to the official documentations for the library to understand them better.\n",
    "\n",
    "* [Numpy Documentation]('https://numpy.org/doc/')\n",
    "\n",
    "* [Pandas Documentation]('https://pandas.pydata.org/docs/')\n",
    "\n",
    "* [Matplotlib Documentation]('https://matplotlib.org/stable/index.html')"
   ]
  },
  {
   "cell_type": "markdown",
   "metadata": {},
   "source": [
    "### Step 3.1: Data Preprocessing - Aggregation"
   ]
  },
  {
   "cell_type": "markdown",
   "metadata": {},
   "source": [
    "*Data aggregation is the process of compiling typically (large) amounts of information from a given database and organizing it into a more consumable and comprehensive medium. Data aggregation can be applied at any scale, from pivot tables to data lakes, in order to summarize information and make conclusions based on data-rich findings. Because of the growing accessibility to information and importance of personalization metrics across the enterprise, the application of data aggregation has become extremely relevant.*\n",
    "\n",
    "* Combining two or more attributes (or objects) into a single attribute (or object)\n",
    "* Purpose\n",
    "    * Data reduction\n",
    "        * Reduce the number of attributes or objects\n",
    "    * Change of scale\n",
    "        * Cities aggregated into regions, states, countries, etc\n",
    "    * More “stable” data\n",
    "        * Aggregated data tends to have less variability "
   ]
  },
  {
   "cell_type": "code",
   "execution_count": 94,
   "metadata": {},
   "outputs": [
    {
     "data": {
      "text/html": [
       "<div>\n",
       "<style scoped>\n",
       "    .dataframe tbody tr th:only-of-type {\n",
       "        vertical-align: middle;\n",
       "    }\n",
       "\n",
       "    .dataframe tbody tr th {\n",
       "        vertical-align: top;\n",
       "    }\n",
       "\n",
       "    .dataframe thead th {\n",
       "        text-align: right;\n",
       "    }\n",
       "</style>\n",
       "<table border=\"1\" class=\"dataframe\">\n",
       "  <thead>\n",
       "    <tr style=\"text-align: right;\">\n",
       "      <th></th>\n",
       "      <th>Year</th>\n",
       "      <th>Month</th>\n",
       "      <th>CPI</th>\n",
       "    </tr>\n",
       "  </thead>\n",
       "  <tbody>\n",
       "    <tr>\n",
       "      <th>0</th>\n",
       "      <td>1913</td>\n",
       "      <td>1</td>\n",
       "      <td>9.8</td>\n",
       "    </tr>\n",
       "    <tr>\n",
       "      <th>1</th>\n",
       "      <td>1913</td>\n",
       "      <td>2</td>\n",
       "      <td>9.8</td>\n",
       "    </tr>\n",
       "    <tr>\n",
       "      <th>2</th>\n",
       "      <td>1913</td>\n",
       "      <td>3</td>\n",
       "      <td>9.8</td>\n",
       "    </tr>\n",
       "    <tr>\n",
       "      <th>3</th>\n",
       "      <td>1913</td>\n",
       "      <td>4</td>\n",
       "      <td>9.8</td>\n",
       "    </tr>\n",
       "    <tr>\n",
       "      <th>4</th>\n",
       "      <td>1913</td>\n",
       "      <td>5</td>\n",
       "      <td>9.7</td>\n",
       "    </tr>\n",
       "  </tbody>\n",
       "</table>\n",
       "</div>"
      ],
      "text/plain": [
       "   Year  Month  CPI\n",
       "0  1913      1  9.8\n",
       "1  1913      2  9.8\n",
       "2  1913      3  9.8\n",
       "3  1913      4  9.8\n",
       "4  1913      5  9.7"
      ]
     },
     "execution_count": 94,
     "metadata": {},
     "output_type": "execute_result"
    }
   ],
   "source": [
    "df_aggregation = pd.read_csv('./Datasets/Data_Preprocessing/US_CPI_Yearly.csv')\n",
    "df_aggregation.head()"
   ]
  },
  {
   "cell_type": "code",
   "execution_count": 106,
   "metadata": {},
   "outputs": [
    {
     "data": {
      "image/png": "[encoded data removed]",
      "text/plain": [
       "<Figure size 640x480 with 1 Axes>"
      ]
     },
     "metadata": {},
     "output_type": "display_data"
    }
   ],
   "source": [
    "plt.plot(df_aggregation['Year'],df_aggregation['CPI'])\n",
    "plt.show()"
   ]
  },
  {
   "cell_type": "markdown",
   "metadata": {},
   "source": [
    "We can group the data above by the year and take the average CPI of the entire year"
   ]
  },
  {
   "cell_type": "code",
   "execution_count": 98,
   "metadata": {},
   "outputs": [
    {
     "data": {
      "text/html": [
       "<div>\n",
       "<style scoped>\n",
       "    .dataframe tbody tr th:only-of-type {\n",
       "        vertical-align: middle;\n",
       "    }\n",
       "\n",
       "    .dataframe tbody tr th {\n",
       "        vertical-align: top;\n",
       "    }\n",
       "\n",
       "    .dataframe thead th {\n",
       "        text-align: right;\n",
       "    }\n",
       "</style>\n",
       "<table border=\"1\" class=\"dataframe\">\n",
       "  <thead>\n",
       "    <tr style=\"text-align: right;\">\n",
       "      <th></th>\n",
       "      <th>CPI</th>\n",
       "    </tr>\n",
       "    <tr>\n",
       "      <th>Year</th>\n",
       "      <th></th>\n",
       "    </tr>\n",
       "  </thead>\n",
       "  <tbody>\n",
       "    <tr>\n",
       "      <th>1913</th>\n",
       "      <td>9.883333</td>\n",
       "    </tr>\n",
       "    <tr>\n",
       "      <th>1914</th>\n",
       "      <td>10.016667</td>\n",
       "    </tr>\n",
       "    <tr>\n",
       "      <th>1915</th>\n",
       "      <td>10.108333</td>\n",
       "    </tr>\n",
       "    <tr>\n",
       "      <th>1916</th>\n",
       "      <td>10.883333</td>\n",
       "    </tr>\n",
       "    <tr>\n",
       "      <th>1917</th>\n",
       "      <td>12.825000</td>\n",
       "    </tr>\n",
       "    <tr>\n",
       "      <th>...</th>\n",
       "      <td>...</td>\n",
       "    </tr>\n",
       "    <tr>\n",
       "      <th>2017</th>\n",
       "      <td>245.119583</td>\n",
       "    </tr>\n",
       "    <tr>\n",
       "      <th>2018</th>\n",
       "      <td>251.106833</td>\n",
       "    </tr>\n",
       "    <tr>\n",
       "      <th>2019</th>\n",
       "      <td>255.657417</td>\n",
       "    </tr>\n",
       "    <tr>\n",
       "      <th>2020</th>\n",
       "      <td>258.811167</td>\n",
       "    </tr>\n",
       "    <tr>\n",
       "      <th>2021</th>\n",
       "      <td>267.203000</td>\n",
       "    </tr>\n",
       "  </tbody>\n",
       "</table>\n",
       "<p>109 rows × 1 columns</p>\n",
       "</div>"
      ],
      "text/plain": [
       "             CPI\n",
       "Year            \n",
       "1913    9.883333\n",
       "1914   10.016667\n",
       "1915   10.108333\n",
       "1916   10.883333\n",
       "1917   12.825000\n",
       "...          ...\n",
       "2017  245.119583\n",
       "2018  251.106833\n",
       "2019  255.657417\n",
       "2020  258.811167\n",
       "2021  267.203000\n",
       "\n",
       "[109 rows x 1 columns]"
      ]
     },
     "execution_count": 98,
     "metadata": {},
     "output_type": "execute_result"
    }
   ],
   "source": [
    "df_aggregation_grouped = df_aggregation.groupby(['Year']).mean()[['CPI']]\n",
    "df_aggregation_grouped"
   ]
  },
  {
   "cell_type": "code",
   "execution_count": 107,
   "metadata": {},
   "outputs": [
    {
     "data": {
      "image/png": "[encoded data removed]",
      "text/plain": [
       "<Figure size 640x480 with 1 Axes>"
      ]
     },
     "metadata": {},
     "output_type": "display_data"
    }
   ],
   "source": [
    "plt.plot(df_aggregation_grouped.index,df_aggregation_grouped['CPI'])\n",
    "plt.show()"
   ]
  },
  {
   "cell_type": "markdown",
   "metadata": {},
   "source": [
    "### Step 3.2: Data Preprocessing - Sampling"
   ]
  },
  {
   "cell_type": "markdown",
   "metadata": {},
   "source": [
    "*Data sampling is a statistical analysis technique used to select, manipulate and analyze a representative subset of data points to identify patterns and trends in the larger data set being examined. It enables data scientists, predictive modelers and other data analysts to work with a small, manageable amount of data about a statistical population to build and run analytical models more quickly, while still producing accurate findings.*\n",
    "\n"
   ]
  },
  {
   "cell_type": "markdown",
   "metadata": {},
   "source": [
    "### Step 3.3 Data Preprocessing - Dimensionality Reduction"
   ]
  },
  {
   "cell_type": "markdown",
   "metadata": {},
   "source": [
    "### Step 3.4 Data Preprocessing - Feature Subset Selection"
   ]
  },
  {
   "cell_type": "markdown",
   "metadata": {},
   "source": [
    "### Step 3.5 Data Preprocessing - Feature Creating Discretization and Binarization"
   ]
  },
  {
   "cell_type": "markdown",
   "metadata": {},
   "source": [
    "### Step 3.6 Data Preprocessing - Attribute Transformation"
   ]
  }
 ],
 "metadata": {
  "kernelspec": {
   "display_name": ".venv",
   "language": "python",
   "name": "python3"
  },
  "language_info": {
   "codemirror_mode": {
    "name": "ipython",
    "version": 3
   },
   "file_extension": ".py",
   "mimetype": "text/x-python",
   "name": "python",
   "nbconvert_exporter": "python",
   "pygments_lexer": "ipython3",
   "version": "3.11.6"
  }
 },
 "nbformat": 4,
 "nbformat_minor": 2
}
